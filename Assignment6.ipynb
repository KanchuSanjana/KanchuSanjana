{
  "nbformat": 4,
  "nbformat_minor": 0,
  "metadata": {
    "colab": {
      "provenance": [],
      "authorship_tag": "ABX9TyMPX2RWdAYwiAtyiojUB57r",
      "include_colab_link": true
    },
    "kernelspec": {
      "name": "python3",
      "display_name": "Python 3"
    },
    "language_info": {
      "name": "python"
    }
  },
  "cells": [
    {
      "cell_type": "markdown",
      "metadata": {
        "id": "view-in-github",
        "colab_type": "text"
      },
      "source": [
        "<a href=\"https://colab.research.google.com/github/KanchuSanjana/KanchuSanjana/blob/main/Assignment6.ipynb\" target=\"_parent\"><img src=\"https://colab.research.google.com/assets/colab-badge.svg\" alt=\"Open In Colab\"/></a>"
      ]
    },
    {
      "cell_type": "code",
      "execution_count": 1,
      "metadata": {
        "colab": {
          "base_uri": "https://localhost:8080/"
        },
        "id": "D3Ir-8JtL9Rr",
        "outputId": "4624106a-fd1b-4810-bcef-957076351dad"
      },
      "outputs": [
        {
          "output_type": "stream",
          "name": "stdout",
          "text": [
            "*\n",
            "\n",
            "**\n",
            "\n",
            "***\n",
            "\n",
            "****\n",
            "\n",
            "*****\n",
            "\n"
          ]
        }
      ],
      "source": [
        "#while loop pattern 2\n",
        "i=1\n",
        "while i<=5:\n",
        "  j=1\n",
        "\n",
        "  while j<=i:\n",
        "    print(\"*\", end=\"\")\n",
        "    j=j+1\n",
        "\n",
        "  i=i+1\n",
        "  print(\"\\n\")"
      ]
    },
    {
      "cell_type": "code",
      "source": [
        "# while loop pattern 1\n",
        "i=5\n",
        "while i>=1:\n",
        "  j=1\n",
        "\n",
        "  while j<=i:\n",
        "    print(\"+\", end=\"\")\n",
        "    j=j+1\n",
        "\n",
        "  i=i-1\n",
        "  print(\"\\n\")"
      ],
      "metadata": {
        "colab": {
          "base_uri": "https://localhost:8080/"
        },
        "id": "g0oG4fZhMb7j",
        "outputId": "0cc3bb3f-3050-4302-ee48-e53b3cadce5e"
      },
      "execution_count": 2,
      "outputs": [
        {
          "output_type": "stream",
          "name": "stdout",
          "text": [
            "+++++\n",
            "\n",
            "++++\n",
            "\n",
            "+++\n",
            "\n",
            "++\n",
            "\n",
            "+\n",
            "\n"
          ]
        }
      ]
    },
    {
      "cell_type": "code",
      "source": [
        "# for loop pattern 1\n",
        "i=5\n",
        "for i in range(5, 0, -1):\n",
        "  j=1\n",
        "  for j in range(1, i+1):\n",
        "    print(\"+\", end=\"\")\n",
        "\n",
        "  i=i-1\n",
        "  print(\"\\n\")"
      ],
      "metadata": {
        "colab": {
          "base_uri": "https://localhost:8080/"
        },
        "id": "AJB4MvdoMruT",
        "outputId": "08a0bd14-f0aa-4f03-9229-8d9e5d2ccee5"
      },
      "execution_count": 3,
      "outputs": [
        {
          "output_type": "stream",
          "name": "stdout",
          "text": [
            "+++++\n",
            "\n",
            "++++\n",
            "\n",
            "+++\n",
            "\n",
            "++\n",
            "\n",
            "+\n",
            "\n"
          ]
        }
      ]
    },
    {
      "cell_type": "code",
      "source": [
        "# for loop pattern 2\n",
        "i=1\n",
        "for i in range(1, 6):\n",
        "  j=1\n",
        "\n",
        "  for j in range(1, i+1):\n",
        "    print(\"*\", end=\"\")\n",
        "    j=j+1\n",
        "\n",
        "  i=i+1\n",
        "  print(\"\\n\")"
      ],
      "metadata": {
        "colab": {
          "base_uri": "https://localhost:8080/"
        },
        "id": "SwdylAzUMvXz",
        "outputId": "10be84e1-d664-4d09-89d8-0571e593f5ee"
      },
      "execution_count": 4,
      "outputs": [
        {
          "output_type": "stream",
          "name": "stdout",
          "text": [
            "*\n",
            "\n",
            "**\n",
            "\n",
            "***\n",
            "\n",
            "****\n",
            "\n",
            "*****\n",
            "\n"
          ]
        }
      ]
    },
    {
      "cell_type": "code",
      "source": [
        "i=5\n",
        "for i in range(5, 0, -1):\n",
        "  j=1\n",
        "  for j in range(1, i+1):\n",
        "    print(\" \"*i,end=(\"\"))\n",
        "    print(\"*\", )\n",
        "  i=i-1\n",
        "  print(\"\\n\")"
      ],
      "metadata": {
        "colab": {
          "base_uri": "https://localhost:8080/"
        },
        "id": "ldZoH30pMwmv",
        "outputId": "cec46c42-116c-4bf7-c2bd-5217c1e2ce9f"
      },
      "execution_count": 5,
      "outputs": [
        {
          "output_type": "stream",
          "name": "stdout",
          "text": [
            "     *\n",
            "     *\n",
            "     *\n",
            "     *\n",
            "     *\n",
            "\n",
            "\n",
            "    *\n",
            "    *\n",
            "    *\n",
            "    *\n",
            "\n",
            "\n",
            "   *\n",
            "   *\n",
            "   *\n",
            "\n",
            "\n",
            "  *\n",
            "  *\n",
            "\n",
            "\n",
            " *\n",
            "\n",
            "\n"
          ]
        }
      ]
    },
    {
      "cell_type": "code",
      "source": [
        "rows = 5\n",
        "for i in range(rows, 0, -1):\n",
        "    for j in range(0, rows-i):\n",
        "        print(end=\" \")\n",
        "    for j in range(0, i):\n",
        "        print(\"*\", end=\" \")\n",
        "    print()"
      ],
      "metadata": {
        "colab": {
          "base_uri": "https://localhost:8080/"
        },
        "id": "ebrqHPQgMy8R",
        "outputId": "1b5c8397-c9a3-48f8-f650-0ff571a6af5c"
      },
      "execution_count": 6,
      "outputs": [
        {
          "output_type": "stream",
          "name": "stdout",
          "text": [
            "* * * * * \n",
            " * * * * \n",
            "  * * * \n",
            "   * * \n",
            "    * \n"
          ]
        }
      ]
    },
    {
      "cell_type": "code",
      "source": [
        "rows = 5\n",
        "for i in range(1, rows + 1):\n",
        "    #print leading spaces\n",
        "    print(\" \" * (rows - i),end=\"\")\n",
        "    #print stars\n",
        "    print(\"* \" * i)"
      ],
      "metadata": {
        "colab": {
          "base_uri": "https://localhost:8080/"
        },
        "id": "LgnIdzWSM2GE",
        "outputId": "50ebe93a-9f59-4739-9039-7362537aa376"
      },
      "execution_count": 7,
      "outputs": [
        {
          "output_type": "stream",
          "name": "stdout",
          "text": [
            "    * \n",
            "   * * \n",
            "  * * * \n",
            " * * * * \n",
            "* * * * * \n"
          ]
        }
      ]
    },
    {
      "cell_type": "code",
      "source": [
        "# for loop pattern 3\n",
        "n = 5\n",
        "for a in range (1,6):\n",
        "  for b in range (n-a):\n",
        "    print(' ', end = ' ')\n",
        "\n",
        "  for j in range (a):\n",
        "      print('*',end=' ')\n",
        "\n",
        "  print('')"
      ],
      "metadata": {
        "colab": {
          "base_uri": "https://localhost:8080/"
        },
        "id": "reB0dE7YM5ZR",
        "outputId": "f5abb9de-a94f-448f-a433-1536db00038b"
      },
      "execution_count": 8,
      "outputs": [
        {
          "output_type": "stream",
          "name": "stdout",
          "text": [
            "        * \n",
            "      * * \n",
            "    * * * \n",
            "  * * * * \n",
            "* * * * * \n"
          ]
        }
      ]
    },
    {
      "cell_type": "code",
      "source": [
        "# for loop pattern 4\n",
        "n = 6\n",
        "for a in range (6,0,-1):\n",
        "  for b in range (n-a):\n",
        "    print(' ', end = ' ')\n",
        "\n",
        "  for j in range (a):\n",
        "      print('+',end=' ')\n",
        "\n",
        "  print('')"
      ],
      "metadata": {
        "colab": {
          "base_uri": "https://localhost:8080/"
        },
        "id": "2dFCwDkpM8xE",
        "outputId": "1a3f1d81-a97c-488b-bcc4-0f1b6fcd1562"
      },
      "execution_count": 9,
      "outputs": [
        {
          "output_type": "stream",
          "name": "stdout",
          "text": [
            "+ + + + + + \n",
            "  + + + + + \n",
            "    + + + + \n",
            "      + + + \n",
            "        + + \n",
            "          + \n"
          ]
        }
      ]
    }
  ]
}